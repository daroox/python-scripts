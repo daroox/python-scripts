{
 "cells": [
  {
   "cell_type": "markdown",
   "metadata": {},
   "source": [
    "# Script for plotting bulk of data\n",
    "first of all check for types of data available using the `%%bash` magic"
   ]
  },
  {
   "cell_type": "code",
   "execution_count": null,
   "metadata": {},
   "outputs": [],
   "source": [
    "%%bash\n",
    "pwd\n",
    "ls\n",
    "#comment\n",
    "head -8"
   ]
  },
  {
   "cell_type": "markdown",
   "metadata": {},
   "source": [
    "## A loop for evaluating data with `.dat` extension and no header"
   ]
  },
  {
   "cell_type": "code",
   "execution_count": null,
   "metadata": {},
   "outputs": [],
   "source": [
    "import os\n",
    "import pandas as pd\n",
    "import matplotlib.pyplot as plt\n",
    "plt.style.use('seaborn')\n",
    "\n",
    "numFiles = [] # is an empty list\n",
    "fileNames = os.listdir() # lists the contents of the directory and puts them into a list called fileNames\n",
    "\n",
    "for fileNames in fileNames:  # loops through fileNames list\n",
    "    if fileNames.endswith(\".dat\"):  # if a file ends with .txt \n",
    "        numFiles.append(fileNames)                    # put the file with *.txt ending into numFiles list\n",
    "\n",
    "# now loop throhgh the numFiles list, load them into a pandas dataframe and plot the data \n",
    "for data in numFiles:\n",
    "    d =pd.read_csv(data, sep =' ' ,names=['time','volt'])\n",
    "    d['time (usec)']= d['time']*1e6\n",
    "    d['volt (mV)'] = d['volt']* -1e3\n",
    "    ax = d.plot('time (usec)','volt (mV)', figsize=(20,15))\n",
    "    ax.set_xlim(None, None)\n",
    "    ax.set_ylim(None, None)\n",
    "    ax.legend([data],prop={'size': 20}) # plot legend should be the name of the file, which is in numFiles\n",
    "    ax.set_ylabel(\"Signal (mV)\", fontname=\"Arial\", fontsize=26)\n",
    "    ax.set_xlabel(\"Time ($\\mu$s)\", fontname=\"Arial\", fontsize=26)\n",
    "    ax = plt.gca()\n",
    "    ax.tick_params(axis = 'both', which = 'major', labelsize = 20)\n",
    "    ax.tick_params(axis = 'both', which = 'minor', labelsize = 20)\n",
    "    plt.savefig(data+'.jpg')"
   ]
  },
  {
   "cell_type": "markdown",
   "metadata": {},
   "source": [
    "## A loop for evaluating data with `.txt` with rows to be ignored and a different delimiter"
   ]
  },
  {
   "cell_type": "code",
   "execution_count": null,
   "metadata": {},
   "outputs": [],
   "source": [
    "import os\n",
    "import pandas as pd\n",
    "import matplotlib.pyplot as plt\n",
    "plt.style.use('seaborn')\n",
    "\n",
    "numFiles = [] # is an empty list\n",
    "fileNames = os.listdir() # lists the contents of the directory and puts them into a list called fileNames\n",
    "\n",
    "for fileNames in fileNames:  # loops through fileNames list\n",
    "    if fileNames.endswith(\".txt\"):  # if a file ends with .txt \n",
    "        numFiles.append(fileNames)                    # put the file with *.txt ending into numFiles list\n",
    "\n",
    "# now loop throhgh the numFiles list, load them into a pandas dataframe and plot the data \n",
    "for data in numFiles:\n",
    "    d =pd.read_csv(data, delimiter =' ',skiprows =4)\n",
    "    d['time (usec)']= d['Time']*1e6\n",
    "    d['volt (mV)'] = d['Ampl']* -1e3\n",
    "    ax = d.plot('time (usec)','volt (mV)', figsize=(20,15))\n",
    "    ax.set_xlim(None, None)\n",
    "    ax.set_ylim(None, None)\n",
    "    ax.legend([data], prop={'size': 20}) # plot legend should be the name of the file, which is in numFiles\n",
    "    ax.set_ylabel(\"Signal (mV)\", fontname=\"Arial\", fontsize=26)\n",
    "    ax.set_xlabel(\"Time ($\\mu$s)\", fontname=\"Arial\", fontsize=26)\n",
    "    ax = plt.gca()\n",
    "    ax.tick_params(axis = 'both', which = 'major', labelsize = 20)\n",
    "    ax.tick_params(axis = 'both', which = 'minor', labelsize = 20)\n",
    "    plt.savefig(data+'.jpg')"
   ]
  }
 ],
 "metadata": {
  "kernelspec": {
   "display_name": "Python 3",
   "language": "python",
   "name": "python3"
  },
  "language_info": {
   "codemirror_mode": {
    "name": "ipython",
    "version": 3
   },
   "file_extension": ".py",
   "mimetype": "text/x-python",
   "name": "python",
   "nbconvert_exporter": "python",
   "pygments_lexer": "ipython3",
   "version": "3.6.6"
  }
 },
 "nbformat": 4,
 "nbformat_minor": 2
}
