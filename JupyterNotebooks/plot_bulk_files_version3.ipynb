{
 "cells": [
  {
   "cell_type": "code",
   "execution_count": null,
   "metadata": {},
   "outputs": [],
   "source": [
    "%%bash\n",
    "pwd\n",
    "echo # inserts newline\n",
    "ls *.txt | wc -l  # show the number of txt files\n",
    "ls *.dat | wc -l  # show the number of dat files\n",
    "echo # inserts newline\n",
    "ls *txt | head -2\n",
    "echo #comment\n",
    "ls *dat | head -2\n",
    "head -6"
   ]
  },
  {
   "cell_type": "code",
   "execution_count": null,
   "metadata": {},
   "outputs": [],
   "source": [
    "import os\n",
    "import pandas as pd\n",
    "\n",
    "import matplotlib.pyplot as plt\n",
    "%matplotlib inline"
   ]
  },
  {
   "cell_type": "code",
   "execution_count": null,
   "metadata": {},
   "outputs": [],
   "source": [
    "# -------- create empty lists ---------\n",
    "\n",
    "datFiles = []; txtFiles = []; matFiles = []; folders = []\n",
    "\n",
    "#---------- list the content of the folder/directory -----\n",
    "\n",
    "day = os.listdir()\n",
    "\n",
    "# ------- put diff file types in diff bins ------\n",
    "\n",
    "for m in day:\n",
    "    if m.endswith('.dat'):\n",
    "        datFiles.append(m)\n",
    "    if m.endswith('.mat'):\n",
    "        matFiles.append(m)\n",
    "    if m.endswith('.txt'):\n",
    "        txtFiles.append(m)\n",
    "    if os.path.isdir(m) and not (m.startswith('.')): #dont want folders strating with '.' eg: .folder\n",
    "        folders.append(m)\n",
    "\n",
    "# ---------- .dat Files -------\n",
    "\n",
    "if len(datFiles)> 0: # if the list is not empty process data\n",
    "    for file in datFiles:\n",
    "        d = pd.read_csv(file,sep=' ',names = ['time','volt'])\n",
    "        d['time (usec)']= d['time']*1e6\n",
    "        d['volt (mV)'] = d['volt']* -1e3\n",
    "        ax = d.plot('time (usec)','volt (mV)', figsize=(20,15))\n",
    "        ax.set_xlim(None, None)\n",
    "        ax.set_ylim(None, None)\n",
    "        ax.legend([file],prop={'size': 20}) # plot legend should be the name of the file, which is in numFiles\n",
    "        ax.set_ylabel(\"Signal (mV)\", fontname=\"Arial\", fontsize=26)\n",
    "        ax.set_xlabel(\"Time ($\\mu$s)\", fontname=\"Arial\", fontsize=26)\n",
    "        ax = plt.gca()\n",
    "        ax.tick_params(axis = 'both', which = 'major', labelsize = 20)\n",
    "        ax.tick_params(axis = 'both', which = 'minor', labelsize = 20)\n",
    "        plt.savefig(file+'.jpg')\n",
    "else:\n",
    "    print('no datFiles found')\n",
    "\n",
    "# --------- .txt Files ---------\n",
    "if len(txtFiles)> 0:\n",
    "    for file in txtFiles:\n",
    "        d = pd.read_csv(file,sep=' ',skiprows = 4)\n",
    "        d['time (usec)']= d['time']*1e6\n",
    "        d['volt (mV)'] = d['volt']* -1e3\n",
    "        ax = d.plot('time (usec)','volt (mV)', figsize=(20,15))\n",
    "        ax.set_xlim(None, None)\n",
    "        ax.set_ylim(None, None)\n",
    "        ax.legend([file],prop={'size': 20}) # plot legend should be the name of the file, which is in numFiles\n",
    "        ax.set_ylabel(\"Signal (mV)\", fontname=\"Arial\", fontsize=26)\n",
    "        ax.set_xlabel(\"Time ($\\mu$s)\", fontname=\"Arial\", fontsize=26)\n",
    "        ax = plt.gca()\n",
    "        ax.tick_params(axis = 'both', which = 'major', labelsize = 20)\n",
    "        ax.tick_params(axis = 'both', which = 'minor', labelsize = 20)\n",
    "        plt.savefig(file+'.jpg')\n",
    "else:\n",
    "    print('no txtFiles found')"
   ]
  }
 ],
 "metadata": {
  "kernelspec": {
   "display_name": "Python 3",
   "language": "python",
   "name": "python3"
  },
  "language_info": {
   "codemirror_mode": {
    "name": "ipython",
    "version": 3
   },
   "file_extension": ".py",
   "mimetype": "text/x-python",
   "name": "python",
   "nbconvert_exporter": "python",
   "pygments_lexer": "ipython3",
   "version": "3.6.6"
  }
 },
 "nbformat": 4,
 "nbformat_minor": 2
}
