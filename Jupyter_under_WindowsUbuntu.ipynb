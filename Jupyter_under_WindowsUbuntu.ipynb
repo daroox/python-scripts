{
 "cells": [
  {
   "cell_type": "markdown",
   "metadata": {},
   "source": [
    "# Running Jupyter lab or Jupyter notebook under Windows-Ubuntu "
   ]
  },
  {
   "cell_type": "markdown",
   "metadata": {},
   "source": [
    "#### Install Windows Subsystem for Linux (WSL) using blog\n",
    "`https://medium.com/hugo-ferreiras-blog/using-windows-subsystem-for-linux-for-data-science-9a8e68d7610c`\n",
    "##### see also:  `https://joshpeng.github.io/post/wsl/`\n",
    "####  download the lates version of Anaconda with\n",
    "`wget https://repo.anaconda.com/archive/Anaconda3-5.2.0-Linux-x86_64.sh`\n",
    "\n",
    "#### After successful download run the following code to install. It doesnt matter if you are already running a bash terminal. You have to use `bash` at the beginning of line\n",
    "`Anaconda3-5.2.0-Linux-x86_64.sh`\n",
    "\n",
    "##### Run Jupyterlab by entering `jupyter lab` If you encounter the following error message:\n",
    "`jupyter command not found, but can be installed with:\n",
    "\n",
    "sudo apt-get install jupyter-core`\n",
    "##### make sure that a path variable is created \n",
    "`export PATH=~/anaconda3/bin:$PATH`\n",
    "##### You can check the version of conda with:  `conda --version` \n",
    "##### Start the Jupyter Lab notebook with  `jupyterlab` and copy the link into a webbrowser under windows!"
   ]
  }
 ],
 "metadata": {
  "kernelspec": {
   "display_name": "Python 3",
   "language": "python",
   "name": "python3"
  },
  "language_info": {
   "codemirror_mode": {
    "name": "ipython",
    "version": 3
   },
   "file_extension": ".py",
   "mimetype": "text/x-python",
   "name": "python",
   "nbconvert_exporter": "python",
   "pygments_lexer": "ipython3",
   "version": "3.6.6"
  }
 },
 "nbformat": 4,
 "nbformat_minor": 2
}
