import os
import pandas as pd
import matplotlib.pyplot as plt
plt.style.use('seaborn')

numFiles = [] # is an empty list
fileNames = os.listdir() # lists the contents of the directory and puts them into a list called fileNames

for fileNames in fileNames:  # loops through fileNames list
    if fileNames.endswith(".txt"):  # if a file ends with .txt 
        numFiles.append(fileNames)                    # put the file with *.txt ending into numFiles list

# now loop throhgh the numFiles list, load them into a pandas dataframe and plot the data 
for data in numFiles:
    d =pd.read_csv(data, delimiter =' ',skiprows =4)
    d['time (usec)']= d['Time']*1e6
    d['volt (mV)'] = d['Ampl']* -1e3
    ax = d.plot('time (usec)','volt (mV)', figsize=(20,15))
    ax.set_xlim(None, None)
    ax.set_ylim(None, None)
    ax.legend([data]) # plot legend should be the name of the file, which is in numFiles
    ax.set_ylabel("Signal (mV)", fontname="Arial", fontsize=26)
    ax.set_xlabel("Time ($\mu$s)", fontname="Arial", fontsize=26)
    ax = plt.gca()
    ax.tick_params(axis = 'both', which = 'major', labelsize = 20)
    ax.tick_params(axis = 'both', which = 'minor', labelsize = 20)
    plt.savefig(data+'.jpg')
